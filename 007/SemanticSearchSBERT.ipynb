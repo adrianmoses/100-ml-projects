{
 "cells": [
  {
   "cell_type": "code",
   "execution_count": null,
   "metadata": {
    "collapsed": false,
    "gradient": {
     "editing": false,
     "source_hidden": false
    }
   },
   "outputs": [
    {
     "name": "stdout",
     "output_type": "stream",
     "text": [
      "Requirement already satisfied: sentence-transformers in /usr/local/lib/python3.6/dist-packages (2.1.0)\r\n"
     ]
    },
    {
     "name": "stdout",
     "output_type": "stream",
     "text": [
      "Requirement already satisfied: tqdm in /usr/local/lib/python3.6/dist-packages (from sentence-transformers) (4.51.0)\r\n",
      "Requirement already satisfied: numpy in /usr/local/lib/python3.6/dist-packages (from sentence-transformers) (1.19.5)\r\n",
      "Requirement already satisfied: tokenizers>=0.10.3 in /usr/local/lib/python3.6/dist-packages (from sentence-transformers) (0.10.3)\r\n",
      "Requirement already satisfied: torch>=1.6.0 in /usr/local/lib/python3.6/dist-packages (from sentence-transformers) (1.6.0)\r\n",
      "Requirement already satisfied: scipy in /usr/local/lib/python3.6/dist-packages (from sentence-transformers) (1.5.4)\r\n",
      "Requirement already satisfied: transformers<5.0.0,>=4.6.0 in /usr/local/lib/python3.6/dist-packages (from sentence-transformers) (4.11.3)\r\n"
     ]
    },
    {
     "name": "stdout",
     "output_type": "stream",
     "text": [
      "Requirement already satisfied: scikit-learn in /usr/local/lib/python3.6/dist-packages (from sentence-transformers) (0.24.2)\r\n",
      "Requirement already satisfied: sentencepiece in /usr/local/lib/python3.6/dist-packages (from sentence-transformers) (0.1.91)\r\n"
     ]
    },
    {
     "name": "stdout",
     "output_type": "stream",
     "text": [
      "Requirement already satisfied: huggingface-hub in /usr/local/lib/python3.6/dist-packages (from sentence-transformers) (0.0.19)\r\n",
      "Requirement already satisfied: torchvision in /usr/local/lib/python3.6/dist-packages (from sentence-transformers) (0.11.1)\r\n",
      "Requirement already satisfied: nltk in /usr/local/lib/python3.6/dist-packages (from sentence-transformers) (3.6.5)\r\n",
      "Requirement already satisfied: future in /usr/local/lib/python3.6/dist-packages (from torch>=1.6.0->sentence-transformers) (0.18.2)\r\n",
      "Requirement already satisfied: pyyaml>=5.1 in /usr/local/lib/python3.6/dist-packages (from transformers<5.0.0,>=4.6.0->sentence-transformers) (6.0)\r\n"
     ]
    },
    {
     "name": "stdout",
     "output_type": "stream",
     "text": [
      "Requirement already satisfied: dataclasses; python_version < \"3.7\" in /usr/local/lib/python3.6/dist-packages (from transformers<5.0.0,>=4.6.0->sentence-transformers) (0.8)\r\n",
      "Requirement already satisfied: requests in /usr/local/lib/python3.6/dist-packages (from transformers<5.0.0,>=4.6.0->sentence-transformers) (2.25.0)\r\n",
      "Requirement already satisfied: sacremoses in /usr/local/lib/python3.6/dist-packages (from transformers<5.0.0,>=4.6.0->sentence-transformers) (0.0.43)\r\n",
      "Requirement already satisfied: packaging>=20.0 in /usr/local/lib/python3.6/dist-packages (from transformers<5.0.0,>=4.6.0->sentence-transformers) (20.4)\r\n",
      "Requirement already satisfied: regex!=2019.12.17 in /usr/local/lib/python3.6/dist-packages (from transformers<5.0.0,>=4.6.0->sentence-transformers) (2021.10.8)\r\n",
      "Requirement already satisfied: filelock in /usr/local/lib/python3.6/dist-packages (from transformers<5.0.0,>=4.6.0->sentence-transformers) (3.0.12)\r\n",
      "Requirement already satisfied: importlib-metadata; python_version < \"3.8\" in /usr/local/lib/python3.6/dist-packages (from transformers<5.0.0,>=4.6.0->sentence-transformers) (2.0.0)\r\n",
      "Requirement already satisfied: joblib>=0.11 in /usr/local/lib/python3.6/dist-packages (from scikit-learn->sentence-transformers) (0.17.0)\r\n",
      "Requirement already satisfied: threadpoolctl>=2.0.0 in /usr/local/lib/python3.6/dist-packages (from scikit-learn->sentence-transformers) (3.0.0)\r\n",
      "Requirement already satisfied: typing-extensions in /usr/local/lib/python3.6/dist-packages (from huggingface-hub->sentence-transformers) (3.7.4.3)\r\n",
      "Requirement already satisfied: pillow!=8.3.0,>=5.3.0 in /usr/local/lib/python3.6/dist-packages (from torchvision->sentence-transformers) (8.4.0)\r\n",
      "Requirement already satisfied: click in /usr/local/lib/python3.6/dist-packages (from nltk->sentence-transformers) (7.1.2)\r\n",
      "Requirement already satisfied: idna<3,>=2.5 in /usr/lib/python3/dist-packages (from requests->transformers<5.0.0,>=4.6.0->sentence-transformers) (2.6)\r\n",
      "Requirement already satisfied: chardet<4,>=3.0.2 in /usr/local/lib/python3.6/dist-packages (from requests->transformers<5.0.0,>=4.6.0->sentence-transformers) (3.0.4)\r\n"
     ]
    },
    {
     "name": "stdout",
     "output_type": "stream",
     "text": [
      "Requirement already satisfied: urllib3<1.27,>=1.21.1 in /usr/local/lib/python3.6/dist-packages (from requests->transformers<5.0.0,>=4.6.0->sentence-transformers) (1.26.2)\r\n",
      "Requirement already satisfied: certifi>=2017.4.17 in /usr/local/lib/python3.6/dist-packages (from requests->transformers<5.0.0,>=4.6.0->sentence-transformers) (2020.11.8)\r\n",
      "Requirement already satisfied: six in /usr/local/lib/python3.6/dist-packages (from sacremoses->transformers<5.0.0,>=4.6.0->sentence-transformers) (1.15.0)\r\n",
      "Requirement already satisfied: pyparsing>=2.0.2 in /usr/local/lib/python3.6/dist-packages (from packaging>=20.0->transformers<5.0.0,>=4.6.0->sentence-transformers) (2.4.7)\r\n",
      "Requirement already satisfied: zipp>=0.5 in /usr/local/lib/python3.6/dist-packages (from importlib-metadata; python_version < \"3.8\"->transformers<5.0.0,>=4.6.0->sentence-transformers) (3.4.0)\r\n"
     ]
    },
    {
     "name": "stdout",
     "output_type": "stream",
     "text": [
      "\u001b[33mWARNING: You are using pip version 20.2.4; however, version 21.3.1 is available.\r\n",
      "You should consider upgrading via the '/usr/bin/python3 -m pip install --upgrade pip' command.\u001b[0m\r\n"
     ]
    }
   ],
   "source": [
    "!pip install sentence-transformers"
   ]
  },
  {
   "cell_type": "code",
   "execution_count": null,
   "metadata": {
    "collapsed": false,
    "gradient": {
     "editing": false,
     "source_hidden": false
    }
   },
   "outputs": [],
   "source": [
    "import pandas as pd\n",
    "import sklearn\n",
    "import numpy as np"
   ]
  },
  {
   "cell_type": "code",
   "execution_count": null,
   "metadata": {
    "collapsed": false,
    "gradient": {
     "editing": false,
     "source_hidden": false
    }
   },
   "outputs": [
    {
     "data": {
      "application/vnd.jupyter.widget-view+json": {
       "model_id": "30cce11ef1bc4368b11bea1d77d2d263",
       "version_major": 2,
       "version_minor": 0
      },
      "text/plain": [
       "HBox(children=(HTML(value='Downloading'), FloatProgress(value=0.0, max=345.0), HTML(value='')))"
      ]
     },
     "metadata": {},
     "output_type": "display_data",
     "transient": {}
    },
    {
     "name": "stdout",
     "output_type": "stream",
     "text": [
      "\n"
     ]
    },
    {
     "data": {
      "application/vnd.jupyter.widget-view+json": {
       "model_id": "7b42186733934d028ef500d7d387f548",
       "version_major": 2,
       "version_minor": 0
      },
      "text/plain": [
       "HBox(children=(HTML(value='Downloading'), FloatProgress(value=0.0, max=3689.0), HTML(value='')))"
      ]
     },
     "metadata": {},
     "output_type": "display_data",
     "transient": {}
    },
    {
     "name": "stdout",
     "output_type": "stream",
     "text": [
      "\n"
     ]
    },
    {
     "data": {
      "application/vnd.jupyter.widget-view+json": {
       "model_id": "97a0cfaf637149a995479cfc68170a54",
       "version_major": 2,
       "version_minor": 0
      },
      "text/plain": [
       "HBox(children=(HTML(value='Downloading'), FloatProgress(value=0.0, max=540.0), HTML(value='')))"
      ]
     },
     "metadata": {},
     "output_type": "display_data",
     "transient": {}
    },
    {
     "name": "stdout",
     "output_type": "stream",
     "text": [
      "\n"
     ]
    },
    {
     "data": {
      "application/vnd.jupyter.widget-view+json": {
       "model_id": "abf50559388d4d18b7659cbdfadd63da",
       "version_major": 2,
       "version_minor": 0
      },
      "text/plain": [
       "HBox(children=(HTML(value='Downloading'), FloatProgress(value=0.0, max=122.0), HTML(value='')))"
      ]
     },
     "metadata": {},
     "output_type": "display_data",
     "transient": {}
    },
    {
     "name": "stdout",
     "output_type": "stream",
     "text": [
      "\n"
     ]
    },
    {
     "data": {
      "application/vnd.jupyter.widget-view+json": {
       "model_id": "cdda00a52b714b93a1a1ef20eda4adbb",
       "version_major": 2,
       "version_minor": 0
      },
      "text/plain": [
       "HBox(children=(HTML(value='Downloading'), FloatProgress(value=0.0, max=229.0), HTML(value='')))"
      ]
     },
     "metadata": {},
     "output_type": "display_data",
     "transient": {}
    },
    {
     "name": "stdout",
     "output_type": "stream",
     "text": [
      "\n"
     ]
    },
    {
     "data": {
      "application/vnd.jupyter.widget-view+json": {
       "model_id": "710d7958e6fd47709ffbaf800b674edf",
       "version_major": 2,
       "version_minor": 0
      },
      "text/plain": [
       "HBox(children=(HTML(value='Downloading'), FloatProgress(value=0.0, max=265486777.0), HTML(value='')))"
      ]
     },
     "metadata": {},
     "output_type": "display_data",
     "transient": {}
    },
    {
     "name": "stdout",
     "output_type": "stream",
     "text": [
      "\n"
     ]
    },
    {
     "data": {
      "application/vnd.jupyter.widget-view+json": {
       "model_id": "de5d333e787f4c60ae116c8c4a7aace3",
       "version_major": 2,
       "version_minor": 0
      },
      "text/plain": [
       "HBox(children=(HTML(value='Downloading'), FloatProgress(value=0.0, max=53.0), HTML(value='')))"
      ]
     },
     "metadata": {},
     "output_type": "display_data",
     "transient": {}
    },
    {
     "name": "stdout",
     "output_type": "stream",
     "text": [
      "\n"
     ]
    },
    {
     "data": {
      "application/vnd.jupyter.widget-view+json": {
       "model_id": "6827ab156af54a0f8e63f00b457b7d41",
       "version_major": 2,
       "version_minor": 0
      },
      "text/plain": [
       "HBox(children=(HTML(value='Downloading'), FloatProgress(value=0.0, max=112.0), HTML(value='')))"
      ]
     },
     "metadata": {},
     "output_type": "display_data",
     "transient": {}
    },
    {
     "name": "stdout",
     "output_type": "stream",
     "text": [
      "\n"
     ]
    },
    {
     "data": {
      "application/vnd.jupyter.widget-view+json": {
       "model_id": "3acb1803416d460dbc5566cf62da95c2",
       "version_major": 2,
       "version_minor": 0
      },
      "text/plain": [
       "HBox(children=(HTML(value='Downloading'), FloatProgress(value=0.0, max=466081.0), HTML(value='')))"
      ]
     },
     "metadata": {},
     "output_type": "display_data",
     "transient": {}
    },
    {
     "name": "stdout",
     "output_type": "stream",
     "text": [
      "\n"
     ]
    },
    {
     "data": {
      "application/vnd.jupyter.widget-view+json": {
       "model_id": "802b272dab9f4a829f972e54d467cf08",
       "version_major": 2,
       "version_minor": 0
      },
      "text/plain": [
       "HBox(children=(HTML(value='Downloading'), FloatProgress(value=0.0, max=490.0), HTML(value='')))"
      ]
     },
     "metadata": {},
     "output_type": "display_data",
     "transient": {}
    },
    {
     "name": "stdout",
     "output_type": "stream",
     "text": [
      "\n"
     ]
    },
    {
     "data": {
      "application/vnd.jupyter.widget-view+json": {
       "model_id": "c0f20340fe194be2aa4c143a14388b7a",
       "version_major": 2,
       "version_minor": 0
      },
      "text/plain": [
       "HBox(children=(HTML(value='Downloading'), FloatProgress(value=0.0, max=231508.0), HTML(value='')))"
      ]
     },
     "metadata": {},
     "output_type": "display_data",
     "transient": {}
    },
    {
     "name": "stdout",
     "output_type": "stream",
     "text": [
      "\n"
     ]
    },
    {
     "data": {
      "application/vnd.jupyter.widget-view+json": {
       "model_id": "616238bcbdb540e7944fc61dcfb81a00",
       "version_major": 2,
       "version_minor": 0
      },
      "text/plain": [
       "HBox(children=(HTML(value='Downloading'), FloatProgress(value=0.0, max=190.0), HTML(value='')))"
      ]
     },
     "metadata": {},
     "output_type": "display_data",
     "transient": {}
    },
    {
     "name": "stdout",
     "output_type": "stream",
     "text": [
      "\n"
     ]
    }
   ],
   "source": [
    "from sentence_transformers import SentenceTransformer \n",
    "model = SentenceTransformer('quora-distilbert-base')"
   ]
  },
  {
   "cell_type": "code",
   "execution_count": null,
   "metadata": {
    "collapsed": false,
    "gradient": {
     "editing": false,
     "source_hidden": false
    }
   },
   "outputs": [],
   "source": [
    "wwf_faq=[\"I haven’t received my adoption pack. What should I do?\",\n",
    "         \"How quickly will I receive my adoption pack?\",\n",
    "         \"How can I renew my adoption?\",\n",
    "         \"How do I change my address or other contact details?\",\n",
    "         \"Can I adopt an animal if I don’t live in the UK?\",\n",
    "         \"If I adopt an animal, will I be the only person who adopts that animal?\",\n",
    "\"My pack doesn't contain a certicate\",\n",
    "\"My adoption is a gift but won’t arrive on time. What can I do?\",\n",
    "\"Can I pay for an adoption with a one-off payment?\",\n",
    "\"Can I change the delivery address for my adoption pack after I’ve placed my order?\",\n",
    "\"How long will my adoption last for?\",\n",
    "\"How often will I receive updates about my adopted animal?\",\n",
    "\"What animals do you have for adoption?\",\n",
    "\"How can I nd out more information about my adopted animal?\",\n",
    "\"How is my adoption money spent?\",\n",
    "\"What is your refund policy?\",\n",
    "\"An error has been made with my Direct Debit payment, can I receive a refund?\",\n",
    "\"How do I change how you contact me?\"]"
   ]
  },
  {
   "cell_type": "code",
   "execution_count": null,
   "metadata": {
    "collapsed": false,
    "gradient": {
     "editing": false,
     "source_hidden": false
    }
   },
   "outputs": [],
   "source": [
    "faq_embeddings = model.encode(wwf_faq)"
   ]
  },
  {
   "cell_type": "code",
   "execution_count": null,
   "metadata": {
    "collapsed": false,
    "gradient": {
     "editing": false,
     "source_hidden": false
    }
   },
   "outputs": [],
   "source": [
    "# these questions are semantically similar to the same qeustions in the faq\n",
    "test_questions=[\"What should be done, if the adoption pack did not reach to me?\",\n",
    "                \" How fast is my adoption pack delivered to me?\",\n",
    "                \"What should I do to renew my adoption?\",\n",
    "        \"What should be done to change adress and contact details ?\",\n",
    "      \"I live outside of the UK, Can I still adopt an animal?\"]\n",
    "test_q_emb= model.encode(test_questions)"
   ]
  },
  {
   "cell_type": "code",
   "execution_count": null,
   "metadata": {
    "collapsed": false,
    "gradient": {
     "editing": false,
     "source_hidden": false
    }
   },
   "outputs": [
    {
     "name": "stdout",
     "output_type": "stream",
     "text": [
      "\n",
      " Test Question: \n",
      " What should be done, if the adoption pack did not reach to me?\n",
      "0.14945789074919258\t0\tI haven’t received my adoption pack. What should I do?\n",
      "0.249402058542311\t7\tMy adoption is a gift but won’t arrive on time. What can I do?\n",
      "0.36697590755293974\t1\tHow quickly will I receive my adoption pack?\n",
      "\n",
      " Test Question: \n",
      "  How fast is my adoption pack delivered to me?\n",
      "0.16582404447971533\t1\tHow quickly will I receive my adoption pack?\n",
      "0.34704800318960205\t0\tI haven’t received my adoption pack. What should I do?\n",
      "0.3511116102418904\t7\tMy adoption is a gift but won’t arrive on time. What can I do?\n",
      "\n",
      " Test Question: \n",
      " What should I do to renew my adoption?\n",
      "0.041682487804352686\t2\tHow can I renew my adoption?\n",
      "0.2993018683194061\t12\tWhat animals do you have for adoption?\n",
      "0.30140719528788196\t0\tI haven’t received my adoption pack. What should I do?\n",
      "\n",
      " Test Question: \n",
      " What should be done to change adress and contact details ?\n",
      "0.27660194653786097\t3\tHow do I change my address or other contact details?\n",
      "0.3528681589603565\t17\tHow do I change how you contact me?\n",
      "0.4393554425960109\t2\tHow can I renew my adoption?\n",
      "\n",
      " Test Question: \n",
      " I live outside of the UK, Can I still adopt an animal?\n",
      "0.16945621001242206\t4\tCan I adopt an animal if I don’t live in the UK?\n",
      "0.20054401624523288\t12\tWhat animals do you have for adoption?\n",
      "0.28782234536533224\t13\tHow can I nd out more information about my adopted animal?\n"
     ]
    }
   ],
   "source": [
    "from scipy.spatial.distance import cdist\n",
    "\n",
    "for q, qe in zip(test_questions, test_q_emb):\n",
    "    distances = cdist([qe], faq_embeddings, \"cosine\")[0]\n",
    "    ind = np.argsort(distances, axis=0)[:3]\n",
    "    print(\"\\n Test Question: \\n \" + q)\n",
    "    for i, (dis, text) in enumerate(\n",
    "        zip(distances[ind], [wwf_faq[i] for i in ind])\n",
    "    ):\n",
    "        print(dis, ind[i], text, sep=\"\\t\")"
   ]
  },
  {
   "cell_type": "code",
   "execution_count": null,
   "metadata": {
    "collapsed": false,
    "gradient": {
     "editing": false,
     "source_hidden": false
    }
   },
   "outputs": [],
   "source": [
    "def get_best(query, K=5):\n",
    "    query_emb = model.encode([query])\n",
    "    distances = cdist(query_emb, faq_embeddings, \"cosine\")[0]\n",
    "    ind = np.argsort(distances, axis=0)\n",
    "    print(\"\\n\" + query)\n",
    "    for c, i in list(zip(distances[ind], ind))[:K]:\n",
    "        print(c, wwf_faq[i], sep=\"\\t\")"
   ]
  },
  {
   "cell_type": "code",
   "execution_count": null,
   "metadata": {
    "collapsed": false,
    "gradient": {
     "editing": false,
     "source_hidden": false
    }
   },
   "outputs": [
    {
     "name": "stdout",
     "output_type": "stream",
     "text": [
      "\n",
      "How do I change my contact info?\n",
      "0.056767938365893555\tHow do I change my address or other contact details?\n",
      "0.18566550175436913\tHow do I change how you contact me?\n",
      "0.3240832752937689\tHow can I renew my adoption?\n"
     ]
    }
   ],
   "source": [
    "get_best(\"How do I change my contact info?\", 3)"
   ]
  },
  {
   "cell_type": "code",
   "execution_count": null,
   "metadata": {
    "collapsed": false,
    "gradient": {
     "editing": false,
     "source_hidden": false
    }
   },
   "outputs": [
    {
     "name": "stdout",
     "output_type": "stream",
     "text": [
      "\n",
      "How do I get my plane ticket if I bought it online?\n",
      "0.35947514848212614\tHow do I change how you contact me?\n",
      "0.3680785759707341\tHow do I change my address or other contact details?\n",
      "0.4306635142737333\tMy adoption is a gift but won’t arrive on time. What can I do?\n",
      "0.4449321553672815\tCan I pay for an adoption with a one-off payment?\n",
      "0.45410870653628976\tHow can I renew my adoption?\n"
     ]
    }
   ],
   "source": [
    "get_best(\"How do I get my plane ticket if I bought it online?\")"
   ]
  }
 ],
 "metadata": {},
 "nbformat": 4,
 "nbformat_minor": 4
}
