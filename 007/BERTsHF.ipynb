{
 "cells": [
  {
   "cell_type": "code",
   "execution_count": null,
   "metadata": {
    "collapsed": false,
    "gradient": {
     "editing": false,
     "source_hidden": false
    },
    "jupyter": {
     "outputs_hidden": false
    }
   },
   "outputs": [
    {
     "name": "stdout",
     "output_type": "stream",
     "text": [
      "109.48224) million parameters\n"
     ]
    }
   ],
   "source": [
    "from transformers import BertConfig, BertModel\n",
    "\n",
    "bert_base = BertConfig()\n",
    "model = BertModel(bert_base)\n",
    "print(f\"{model.num_parameters() / (10**6)} million parameters\")"
   ]
  },
  {
   "cell_type": "code",
   "execution_count": null,
   "metadata": {
    "collapsed": false,
    "gradient": {
     "editing": false,
     "source_hidden": false
    },
    "jupyter": {
     "outputs_hidden": false
    }
   },
   "outputs": [
    {
     "name": "stdout",
     "output_type": "stream",
     "text": [
      "11.683584 million parameters\n"
     ]
    }
   ],
   "source": [
    "from transformers import AlbertConfig, AlbertModel\n",
    "\n",
    "albert_base = AlbertConfig(hidden_size=768,\n",
    "    num_attention_heads=12,\n",
    "    intermediate_size=3072)\n",
    "\n",
    "model = AlbertModel(albert_base)\n",
    "print(f\"{model.num_parameters() / (10**6)} million parameters\")"
   ]
  },
  {
   "cell_type": "code",
   "execution_count": null,
   "metadata": {
    "collapsed": false,
    "gradient": {
     "editing": false,
     "source_hidden": false
    },
    "jupyter": {
     "outputs_hidden": false
    }
   },
   "outputs": [
    {
     "data": {
      "application/vnd.jupyter.widget-view+json": {
       "model_id": "4f15634026b14433ac63b166daf7c522",
       "version_major": 2,
       "version_minor": 0
      },
      "text/plain": [
       "HBox(children=(HTML(value='Downloading'), FloatProgress(value=0.0, max=760289.0), HTML(value='')))"
      ]
     },
     "metadata": {},
     "output_type": "display_data"
    },
    {
     "name": "stdout",
     "output_type": "stream",
     "text": [
      "\n"
     ]
    },
    {
     "data": {
      "application/vnd.jupyter.widget-view+json": {
       "model_id": "f1757adf0fc945d8ba82eaad3bbfd3fc",
       "version_major": 2,
       "version_minor": 0
      },
      "text/plain": [
       "HBox(children=(HTML(value='Downloading'), FloatProgress(value=0.0, max=684.0), HTML(value='')))"
      ]
     },
     "metadata": {},
     "output_type": "display_data"
    },
    {
     "name": "stdout",
     "output_type": "stream",
     "text": [
      "\n"
     ]
    },
    {
     "data": {
      "application/vnd.jupyter.widget-view+json": {
       "model_id": "6f326c2b9d4f476d8a42e11944dec2e1",
       "version_major": 2,
       "version_minor": 0
      },
      "text/plain": [
       "HBox(children=(HTML(value='Downloading'), FloatProgress(value=0.0, max=47376696.0), HTML(value='')))"
      ]
     },
     "metadata": {},
     "output_type": "display_data"
    },
    {
     "name": "stdout",
     "output_type": "stream",
     "text": [
      "\n"
     ]
    }
   ],
   "source": [
    "from transformers import AlbertTokenizer\n",
    "\n",
    "tokenizer = AlbertTokenizer.from_pretrained('albert-base-v2')\n",
    "model = AlbertModel.from_pretrained('albert-base-v2')\n",
    "text = \"The cat is so sad .\"\n",
    "encoded_input = tokenizer(text, return_tensors='pt')\n",
    "output = model(**encoded_input)"
   ]
  },
  {
   "cell_type": "code",
   "execution_count": null,
   "metadata": {
    "collapsed": false,
    "gradient": {
     "editing": false,
     "source_hidden": false
    },
    "jupyter": {
     "outputs_hidden": false
    }
   },
   "outputs": [
    {
     "name": "stdout",
     "output_type": "stream",
     "text": [
      "Collecting pandas\n",
      "  Downloading pandas-1.1.5-cp36-cp36m-manylinux1_x86_64.whl (9.5 MB)\n",
      "\u001b[K     |################################| 9.5 MB 24.8 MB/s eta 0:00:01\n",
      "\u001b[?25hRequirement already satisfied: numpy>=1.15.4 in /usr/local/lib/python3.6/dist-packages (from pandas) (1.18.5)\n",
      "Collecting pytz>=2017.2\n",
      "  Downloading pytz-2021.3-py2.py3-none-any.whl (503 kB)\n",
      "\u001b[K     |################################| 503 kB 27.6 MB/s eta 0:00:01\n",
      "\u001b[?25hRequirement already satisfied: python-dateutil>=2.7.3 in /usr/local/lib/python3.6/dist-packages (from pandas) (2.8.1)\n",
      "Requirement already satisfied: six>=1.5 in /usr/local/lib/python3.6/dist-packages (from python-dateutil>=2.7.3->pandas) (1.15.0)\n",
      "Installing collected packages: pytz, pandas\n",
      "Successfully installed pandas-1.1.5 pytz-2021.3\n",
      "\u001b[33mWARNING: You are using pip version 20.2.4; however, version 21.3 is available.\n",
      "You should consider upgrading via the '/usr/bin/python3 -m pip install --upgrade pip' command.\u001b[0m\n"
     ]
    }
   ],
   "source": [
    "!pip install pandas"
   ]
  },
  {
   "cell_type": "code",
   "execution_count": null,
   "metadata": {
    "collapsed": false,
    "gradient": {
     "editing": false,
     "source_hidden": false
    },
    "jupyter": {
     "outputs_hidden": false
    }
   },
   "outputs": [
    {
     "data": {
      "text/html": [
       "<div>\n",
       "<style scoped>\n",
       "    .dataframe tbody tr th:only-of-type {\n",
       "        vertical-align: middle;\n",
       "    }\n",
       "\n",
       "    .dataframe tbody tr th {\n",
       "        vertical-align: top;\n",
       "    }\n",
       "\n",
       "    .dataframe thead th {\n",
       "        text-align: right;\n",
       "    }\n",
       "</style>\n",
       "<table border=\"1\" class=\"dataframe\">\n",
       "  <thead>\n",
       "    <tr style=\"text-align: right;\">\n",
       "      <th></th>\n",
       "      <th>sequence</th>\n",
       "      <th>score</th>\n",
       "      <th>token</th>\n",
       "      <th>token_str</th>\n",
       "    </tr>\n",
       "  </thead>\n",
       "  <tbody>\n",
       "    <tr>\n",
       "      <th>0</th>\n",
       "      <td>[CLS] the cat is so cute.[SEP]</td>\n",
       "      <td>0.281025</td>\n",
       "      <td>10901</td>\n",
       "      <td>▁cute</td>\n",
       "    </tr>\n",
       "    <tr>\n",
       "      <th>1</th>\n",
       "      <td>[CLS] the cat is so adorable.[SEP]</td>\n",
       "      <td>0.094893</td>\n",
       "      <td>26354</td>\n",
       "      <td>▁adorable</td>\n",
       "    </tr>\n",
       "    <tr>\n",
       "      <th>2</th>\n",
       "      <td>[CLS] the cat is so happy.[SEP]</td>\n",
       "      <td>0.042963</td>\n",
       "      <td>1700</td>\n",
       "      <td>▁happy</td>\n",
       "    </tr>\n",
       "    <tr>\n",
       "      <th>3</th>\n",
       "      <td>[CLS] the cat is so funny.[SEP]</td>\n",
       "      <td>0.040976</td>\n",
       "      <td>5066</td>\n",
       "      <td>▁funny</td>\n",
       "    </tr>\n",
       "    <tr>\n",
       "      <th>4</th>\n",
       "      <td>[CLS] the cat is so affectionate.[SEP]</td>\n",
       "      <td>0.024233</td>\n",
       "      <td>28803</td>\n",
       "      <td>▁affectionate</td>\n",
       "    </tr>\n",
       "  </tbody>\n",
       "</table>\n",
       "</div>"
      ],
      "text/plain": [
       "                                 sequence     score  token      token_str\n",
       "0          [CLS] the cat is so cute.[SEP]  0.281025  10901          ▁cute\n",
       "1      [CLS] the cat is so adorable.[SEP]  0.094893  26354      ▁adorable\n",
       "2         [CLS] the cat is so happy.[SEP]  0.042963   1700         ▁happy\n",
       "3         [CLS] the cat is so funny.[SEP]  0.040976   5066         ▁funny\n",
       "4  [CLS] the cat is so affectionate.[SEP]  0.024233  28803  ▁affectionate"
      ]
     },
     "execution_count": 10,
     "metadata": {},
     "output_type": "execute_result"
    }
   ],
   "source": [
    "import pandas as pd\n",
    "from transformers import pipeline\n",
    "fillmask = pipeline('fill-mask', model='albert-base-v2')\n",
    "pd.DataFrame(fillmask(\"The cat is so [MASK] .\"))"
   ]
  },
  {
   "cell_type": "code",
   "execution_count": null,
   "metadata": {
    "collapsed": false,
    "gradient": {
     "editing": false,
     "source_hidden": false
    },
    "jupyter": {
     "outputs_hidden": false
    }
   },
   "outputs": [
    {
     "name": "stdout",
     "output_type": "stream",
     "text": [
      "109.48224 million parameters\n"
     ]
    }
   ],
   "source": [
    "# RoBERTa\n",
    "\n",
    "from transformers import RobertaConfig, RobertaModel\n",
    "conf = RobertaConfig()\n",
    "model = RobertaModel(conf)\n",
    "\n",
    "print(f\"{model.num_parameters() / (10**6)} million parameters\")"
   ]
  },
  {
   "cell_type": "code",
   "execution_count": null,
   "metadata": {
    "collapsed": false,
    "gradient": {
     "editing": false,
     "source_hidden": false
    },
    "jupyter": {
     "outputs_hidden": false
    }
   },
   "outputs": [],
   "source": [
    "from transformers import RobertaTokenizer\n",
    "\n",
    "tokenizer = RobertaTokenizer.from_pretrained('roberta-base')\n",
    "model = RobertaModel.from_pretrained('roberta-base')\n",
    "text = \"The cat is so sad .\"\n",
    "encoded_input = tokenizer(text, return_tensors='pt')\n",
    "output = model(**encoded_input)"
   ]
  },
  {
   "cell_type": "code",
   "execution_count": null,
   "metadata": {
    "collapsed": false,
    "gradient": {
     "editing": false,
     "source_hidden": false
    },
    "jupyter": {
     "outputs_hidden": false
    }
   },
   "outputs": [
    {
     "name": "stderr",
     "output_type": "stream",
     "text": [
      "Some weights of RobertaForMaskedLM were not initialized from the model checkpoint at roberta-base and are newly initialized: ['lm_head.decoder.bias']\n",
      "You should probably TRAIN this model on a down-stream task to be able to use it for predictions and inference.\n"
     ]
    },
    {
     "data": {
      "text/html": [
       "<div>\n",
       "<style scoped>\n",
       "    .dataframe tbody tr th:only-of-type {\n",
       "        vertical-align: middle;\n",
       "    }\n",
       "\n",
       "    .dataframe tbody tr th {\n",
       "        vertical-align: top;\n",
       "    }\n",
       "\n",
       "    .dataframe thead th {\n",
       "        text-align: right;\n",
       "    }\n",
       "</style>\n",
       "<table border=\"1\" class=\"dataframe\">\n",
       "  <thead>\n",
       "    <tr style=\"text-align: right;\">\n",
       "      <th></th>\n",
       "      <th>sequence</th>\n",
       "      <th>score</th>\n",
       "      <th>token</th>\n",
       "      <th>token_str</th>\n",
       "    </tr>\n",
       "  </thead>\n",
       "  <tbody>\n",
       "    <tr>\n",
       "      <th>0</th>\n",
       "      <td>&lt;s&gt;The cat is so cute.&lt;/s&gt;</td>\n",
       "      <td>0.191843</td>\n",
       "      <td>11962</td>\n",
       "      <td>Ġcute</td>\n",
       "    </tr>\n",
       "    <tr>\n",
       "      <th>1</th>\n",
       "      <td>&lt;s&gt;The cat is so sweet.&lt;/s&gt;</td>\n",
       "      <td>0.051524</td>\n",
       "      <td>4045</td>\n",
       "      <td>Ġsweet</td>\n",
       "    </tr>\n",
       "    <tr>\n",
       "      <th>2</th>\n",
       "      <td>&lt;s&gt;The cat is so funny.&lt;/s&gt;</td>\n",
       "      <td>0.033595</td>\n",
       "      <td>6269</td>\n",
       "      <td>Ġfunny</td>\n",
       "    </tr>\n",
       "    <tr>\n",
       "      <th>3</th>\n",
       "      <td>&lt;s&gt;The cat is so handsome.&lt;/s&gt;</td>\n",
       "      <td>0.032893</td>\n",
       "      <td>19222</td>\n",
       "      <td>Ġhandsome</td>\n",
       "    </tr>\n",
       "    <tr>\n",
       "      <th>4</th>\n",
       "      <td>&lt;s&gt;The cat is so beautiful.&lt;/s&gt;</td>\n",
       "      <td>0.032314</td>\n",
       "      <td>2721</td>\n",
       "      <td>Ġbeautiful</td>\n",
       "    </tr>\n",
       "  </tbody>\n",
       "</table>\n",
       "</div>"
      ],
      "text/plain": [
       "                          sequence     score  token   token_str\n",
       "0       <s>The cat is so cute.</s>  0.191843  11962       Ġcute\n",
       "1      <s>The cat is so sweet.</s>  0.051524   4045      Ġsweet\n",
       "2      <s>The cat is so funny.</s>  0.033595   6269      Ġfunny\n",
       "3   <s>The cat is so handsome.</s>  0.032893  19222   Ġhandsome\n",
       "4  <s>The cat is so beautiful.</s>  0.032314   2721  Ġbeautiful"
      ]
     },
     "execution_count": 14,
     "metadata": {},
     "output_type": "execute_result"
    }
   ],
   "source": [
    "from transformers import pipeline\n",
    "\n",
    "fillmask = pipeline(\"fill-mask\", model=\"roberta-base\", tokenizer=tokenizer)\n",
    "pd.DataFrame(fillmask(\"The cat is so <mask> .\"))"
   ]
  },
  {
   "cell_type": "code",
   "execution_count": null,
   "metadata": {
    "collapsed": false,
    "gradient": {
     "editing": false,
     "source_hidden": false
    },
    "jupyter": {
     "outputs_hidden": false
    }
   },
   "outputs": [
    {
     "data": {
      "text/plain": [
       "'[MASK]'"
      ]
     },
     "execution_count": 16,
     "metadata": {},
     "output_type": "execute_result"
    }
   ],
   "source": [
    "# find the mask token\n",
    "\n",
    "tokenizer = AlbertTokenizer.from_pretrained('albert-base-v2')\n",
    "tokenizer.mask_token"
   ]
  },
  {
   "cell_type": "code",
   "execution_count": null,
   "metadata": {
    "collapsed": false,
    "gradient": {
     "editing": false,
     "source_hidden": false
    },
    "jupyter": {
     "outputs_hidden": false
    }
   },
   "outputs": [
    {
     "data": {
      "text/plain": [
       "'<mask>'"
      ]
     },
     "execution_count": 17,
     "metadata": {},
     "output_type": "execute_result"
    }
   ],
   "source": [
    "tokenizer = RobertaTokenizer.from_pretrained('roberta-base')\n",
    "tokenizer.mask_token"
   ]
  },
  {
   "cell_type": "code",
   "execution_count": null,
   "metadata": {
    "collapsed": false,
    "gradient": {
     "editing": false,
     "source_hidden": false
    },
    "jupyter": {
     "outputs_hidden": false
    }
   },
   "outputs": [
    {
     "data": {
      "text/plain": [
       "[{'sequence': '<s>The cat is very happy.</s>',\n",
       "  'score': 0.0522228442132473,\n",
       "  'token': 1372,\n",
       "  'token_str': 'Ġhappy'},\n",
       " {'sequence': '<s>The cat is very shy.</s>',\n",
       "  'score': 0.04954611882567406,\n",
       "  'token': 9152,\n",
       "  'token_str': 'Ġshy'},\n",
       " {'sequence': '<s>The cat is very friendly.</s>',\n",
       "  'score': 0.0414116233587265,\n",
       "  'token': 5192,\n",
       "  'token_str': 'Ġfriendly'},\n",
       " {'sequence': '<s>The cat is very cute.</s>',\n",
       "  'score': 0.0360177680850029,\n",
       "  'token': 11962,\n",
       "  'token_str': 'Ġcute'},\n",
       " {'sequence': '<s>The cat is very smart.</s>',\n",
       "  'score': 0.031842395663261414,\n",
       "  'token': 2793,\n",
       "  'token_str': 'Ġsmart'}]"
      ]
     },
     "execution_count": 18,
     "metadata": {},
     "output_type": "execute_result"
    }
   ],
   "source": [
    "fillmask(f\"The cat is very {fillmask.tokenizer.mask_token}.\")"
   ]
  },
  {
   "cell_type": "code",
   "execution_count": null,
   "metadata": {
    "collapsed": false,
    "gradient": {
     "editing": false,
     "source_hidden": false
    },
    "jupyter": {
     "outputs_hidden": false
    }
   },
   "outputs": [
    {
     "data": {
      "text/plain": [
       "[{'sequence': '[CLS] the cat is very friendly. [SEP]',\n",
       "  'score': 0.09815675020217896,\n",
       "  'token': 5379,\n",
       "  'token_str': 'friendly'},\n",
       " {'sequence': '[CLS] the cat is very cute. [SEP]',\n",
       "  'score': 0.08666384965181351,\n",
       "  'token': 10140,\n",
       "  'token_str': 'cute'},\n",
       " {'sequence': '[CLS] the cat is very sensitive. [SEP]',\n",
       "  'score': 0.05456872284412384,\n",
       "  'token': 7591,\n",
       "  'token_str': 'sensitive'},\n",
       " {'sequence': '[CLS] the cat is very shy. [SEP]',\n",
       "  'score': 0.03385474532842636,\n",
       "  'token': 11004,\n",
       "  'token_str': 'shy'},\n",
       " {'sequence': '[CLS] the cat is very smart. [SEP]',\n",
       "  'score': 0.031776364892721176,\n",
       "  'token': 6047,\n",
       "  'token_str': 'smart'}]"
      ]
     },
     "execution_count": 21,
     "metadata": {},
     "output_type": "execute_result"
    }
   ],
   "source": [
    "#ELECTRA\n",
    "\n",
    "fillmask = pipeline(\"fill-mask\", model=\"google/electra-small-generator\")\n",
    "fillmask(f\"The cat is very {fillmask.tokenizer.mask_token} .\")"
   ]
  }
 ],
 "metadata": {
  "kernelspec": {
   "display_name": "Python 3",
   "language": "python",
   "name": "python3"
  },
  "language_info": {
   "codemirror_mode": {
    "name": "ipython",
    "version": 3
   },
   "file_extension": ".py",
   "mimetype": "text/x-python",
   "name": "python",
   "nbconvert_exporter": "python",
   "pygments_lexer": "ipython3",
   "version": "3.6.9"
  }
 },
 "nbformat": 4,
 "nbformat_minor": 4
}
